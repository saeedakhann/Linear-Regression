{
 "cells": [
  {
   "cell_type": "code",
   "execution_count": 1,
   "metadata": {},
   "outputs": [],
   "source": [
    "import numpy as np\n",
    "import pandas as pd\n",
    "import matplotlib.pyplot as plt"
   ]
  },
  {
   "cell_type": "code",
   "execution_count": 2,
   "metadata": {
    "scrolled": true
   },
   "outputs": [
    {
     "name": "stdout",
     "output_type": "stream",
     "text": [
      "    Population    Profit\n",
      "0       6.1101  17.59200\n",
      "1       5.5277   9.13020\n",
      "2       8.5186  13.66200\n",
      "3       7.0032  11.85400\n",
      "4       5.8598   6.82330\n",
      "..         ...       ...\n",
      "92      5.8707   7.20290\n",
      "93      5.3054   1.98690\n",
      "94      8.2934   0.14454\n",
      "95     13.3940   9.05510\n",
      "96      5.4369   0.61705\n",
      "\n",
      "[97 rows x 2 columns]\n"
     ]
    }
   ],
   "source": [
    "data = pd.read_csv('ex1data1.txt', sep=\",\", header=None,names=[\"Population\", \"Profit\"])\n",
    "print(data)"
   ]
  },
  {
   "cell_type": "code",
   "execution_count": 3,
   "metadata": {
    "scrolled": true
   },
   "outputs": [
    {
     "data": {
      "image/png": "[encoded data removed]",
      "text/plain": [
       "<Figure size 432x288 with 1 Axes>"
      ]
     },
     "metadata": {
      "needs_background": "light"
     },
     "output_type": "display_data"
    }
   ],
   "source": [
    "x=data.iloc[:,0] \n",
    "y=data.iloc[:,1]\n",
    "\n",
    "plt.xlabel('Population of City in 10000s')\n",
    "plt.ylabel('Profit in $10000s')\n",
    "plt.plot(x, y, 'x', color='red');\n"
   ]
  },
  {
   "cell_type": "code",
   "execution_count": 4,
   "metadata": {},
   "outputs": [],
   "source": [
    "def costFunction(x, y, theta):\n",
    "    meanErrorSquared = np.power(((x * theta.T) - y), 2) #(h0 -y)^2\n",
    "    return np.sum(meanErrorSquared) / (2 * len(x)) # sum of mean error squared * 1/2m"
   ]
  },
  {
   "cell_type": "code",
   "execution_count": 5,
   "metadata": {},
   "outputs": [],
   "source": [
    "data.insert(0, 'X0', 1)"
   ]
  },
  {
   "cell_type": "code",
   "execution_count": 6,
   "metadata": {},
   "outputs": [],
   "source": [
    "X = data.iloc[:,0:2] #X0 and Population (Training data)\n",
    "Y = data.iloc[:,2:3] #Profit (target variable)\n",
    "theta = np.matrix(np.array([0,0])) # theata matrix with 0 value\n",
    "#print(X)\n",
    "#print(Y)\n",
    "#print(theta)\n"
   ]
  },
  {
   "cell_type": "code",
   "execution_count": 7,
   "metadata": {},
   "outputs": [],
   "source": [
    "mat1 = np.matrix(X.values)\n",
    "mat2 = np.matrix(Y.values)\n",
    "#print(mat1)\n",
    "#print(mat2)"
   ]
  },
  {
   "cell_type": "code",
   "execution_count": 8,
   "metadata": {},
   "outputs": [
    {
     "data": {
      "text/plain": [
       "32.072733877455676"
      ]
     },
     "execution_count": 8,
     "metadata": {},
     "output_type": "execute_result"
    }
   ],
   "source": [
    "costFunction(mat1,mat2,theta)\n"
   ]
  },
  {
   "cell_type": "code",
   "execution_count": 9,
   "metadata": {},
   "outputs": [],
   "source": [
    "def gradientDescent(x, y, theta, alpha, iterations):\n",
    "    temp = np.matrix(np.zeros(theta.shape)) #copy of theta matrix with value 0 \n",
    "    featureCount = int(theta.ravel().shape[1]) # feature count including dummy X0 or number of thetas values\n",
    "    costArray = np.zeros(iterations) #initialize cost array with zeros\n",
    "    \n",
    "    for a in range(iterations):\n",
    "        error = (x * theta.T) - y #predicted- actual or h0 - y \n",
    "        for b in range(featureCount):\n",
    "            derivative = np.multiply(error, x[:,b]) #error * feature value or (h0 - y)x\n",
    "            temp[0,b] = theta[0,b] - ((alpha / len(x)) * np.sum(derivative)) #UpdatedTheta= PrevTheta - ((alpha/m) * sum of derivative )   \n",
    "        theta = temp #update theta\n",
    "        costArray[a] = costFunction(x, y, theta) \n",
    "        \n",
    "    return theta, costArray"
   ]
  },
  {
   "cell_type": "code",
   "execution_count": 12,
   "metadata": {},
   "outputs": [
    {
     "data": {
      "text/plain": [
       "((97, 2), (97, 1), (1, 2))"
      ]
     },
     "execution_count": 12,
     "metadata": {},
     "output_type": "execute_result"
    }
   ],
   "source": [
    "mat1.shape,mat2.shape,theta.shape"
   ]
  },
  {
   "cell_type": "code",
   "execution_count": 10,
   "metadata": {},
   "outputs": [
    {
     "data": {
      "text/plain": [
       "matrix([[-3.78806857,  1.18221277]])"
      ]
     },
     "execution_count": 10,
     "metadata": {},
     "output_type": "execute_result"
    }
   ],
   "source": [
    "iterations = 2000\n",
    "alpha = 0.01\n",
    "gd, cost = gradientDescent(mat1, mat2, theta, alpha, iterations)\n",
    "gd"
   ]
  },
  {
   "cell_type": "code",
   "execution_count": 11,
   "metadata": {},
   "outputs": [
    {
     "data": {
      "text/plain": [
       "<matplotlib.legend.Legend at 0x26a60a2e970>"
      ]
     },
     "execution_count": 11,
     "metadata": {},
     "output_type": "execute_result"
    },
    {
     "data": {
      "image/png": "[encoded data removed]",
      "text/plain": [
       "<Figure size 432x288 with 1 Axes>"
      ]
     },
     "metadata": {
      "needs_background": "light"
     },
     "output_type": "display_data"
    }
   ],
   "source": [
    "y = gd[0, 0] + (gd[0, 1] * x)  #y= theta0 + theta1 * X\n",
    "plt.xlabel('Population of City in 10000s')\n",
    "plt.ylabel('Profit in $10000s')\n",
    "plt.plot(data.Population, data.Profit, 'x', color='red', label=\"Training data\");\n",
    "plt.plot(x, y, 'r', label='Linear Regression',color=\"blue\")\n",
    "plt.legend(loc=4)"
   ]
  },
  {
   "cell_type": "code",
   "execution_count": null,
   "metadata": {},
   "outputs": [],
   "source": []
  }
 ],
 "metadata": {
  "kernelspec": {
   "display_name": "Python 3",
   "language": "python",
   "name": "python3"
  },
  "language_info": {
   "codemirror_mode": {
    "name": "ipython",
    "version": 3
   },
   "file_extension": ".py",
   "mimetype": "text/x-python",
   "name": "python",
   "nbconvert_exporter": "python",
   "pygments_lexer": "ipython3",
   "version": "3.8.5"
  }
 },
 "nbformat": 4,
 "nbformat_minor": 4
}
