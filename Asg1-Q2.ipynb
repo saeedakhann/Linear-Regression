{
 "cells": [
  {
   "cell_type": "code",
   "execution_count": 1,
   "metadata": {},
   "outputs": [],
   "source": [
    "import numpy as np\n",
    "import pandas as pd\n",
    "import matplotlib.pyplot as plt"
   ]
  },
  {
   "cell_type": "code",
   "execution_count": 2,
   "metadata": {},
   "outputs": [],
   "source": [
    "data = pd.read_csv('ex1data2.txt', sep=\",\", header=None,names=[\"Size(squarefeet)\", \"Num of Bedrooms\",\"Price\"])\n",
    "#print(data)"
   ]
  },
  {
   "cell_type": "code",
   "execution_count": 3,
   "metadata": {},
   "outputs": [],
   "source": [
    "x = data.iloc[:, 0:2]\n",
    "y = data.iloc[:, 2:3]\n",
    "theta = np.matrix(np.array([0,0,0]))\n",
    "#print(y)"
   ]
  },
  {
   "cell_type": "code",
   "execution_count": 4,
   "metadata": {},
   "outputs": [],
   "source": [
    "def featureNormalize(X):\n",
    "    NormalizedX = X.copy() #copy of original features\n",
    "    Mean = np.zeros(X.shape[1]) #initialize mean array\n",
    "    StandardDeviation = np.zeros(X.shape[1]) #initialize standard deviation array\n",
    "    \n",
    "    Mean = np.mean(X, axis=0) # mean of both features(Size and Bedrooms) axis=0 calculates mean columnwise\n",
    "    StandardDeviation = np.std(X, axis=0) #Standard deviation of both features(Size and Bedrooms) axis=0 calculates mean columnwise\n",
    "    print(\"Mean:\")\n",
    "    print(Mean)\n",
    "    \n",
    "    print(\"Standard Deviation:\")\n",
    "    print(StandardDeviation)\n",
    "    \n",
    "    NormalizedX = (X - Mean) / StandardDeviation # subtract mean divide by standard deviation\n",
    "    \n",
    "    return NormalizedX, Mean,StandardDeviation\n"
   ]
  },
  {
   "cell_type": "code",
   "execution_count": 5,
   "metadata": {},
   "outputs": [
    {
     "name": "stdout",
     "output_type": "stream",
     "text": [
      "Mean:\n",
      "Size(squarefeet)    2000.680851\n",
      "Num of Bedrooms        3.170213\n",
      "dtype: float64\n",
      "Standard Deviation:\n",
      "Size(squarefeet)    786.202619\n",
      "Num of Bedrooms       0.752843\n",
      "dtype: float64\n"
     ]
    }
   ],
   "source": [
    "Normalizedfeatures, Mean, StandardDeviation = featureNormalize(x)"
   ]
  },
  {
   "cell_type": "code",
   "execution_count": 6,
   "metadata": {},
   "outputs": [],
   "source": [
    "Normalizedfeatures.insert(0, 'X0', 1)\n",
    "#print(Normalizedfeatures)\n"
   ]
  },
  {
   "cell_type": "code",
   "execution_count": 7,
   "metadata": {},
   "outputs": [],
   "source": [
    "def costFunction(x, y, theta):\n",
    "    meanErrorSquared = np.power(((x * theta.T) - y), 2) #(h0 -y)^2\n",
    "    return np.sum(meanErrorSquared) / (2 * len(x)) # sum of mean error squared * 1/2m\n",
    "def gradientDescent(x, y, theta, alpha, iterations):\n",
    "    temp = np.matrix(np.zeros(theta.shape)) #copy of theta matrix with value 0 \n",
    "    featureCount = int(theta.ravel().shape[1]) # feature count including dummy X0 or number of thetas values\n",
    "    costArray = np.zeros(iterations) #initialize cost array with zeros\n",
    "    \n",
    "    for a in range(iterations):\n",
    "        error = (x * theta.T) - y #predicted- actual or h0 - y \n",
    "        for b in range(featureCount):\n",
    "            derivative = np.multiply(error, x[:,b]) #error * feature value or (h0 - y)x\n",
    "            temp[0,b] = theta[0,b] - ((alpha / len(x)) * np.sum(derivative)) #UpdatedTheta= PrevTheta - ((alpha/m) * sum of derivative )   \n",
    "        theta = temp #update theta\n",
    "        costArray[a] = costFunction(x, y, theta) \n",
    "        \n",
    "    return theta, costArray"
   ]
  },
  {
   "cell_type": "code",
   "execution_count": 8,
   "metadata": {},
   "outputs": [],
   "source": [
    "Normalizedfeatures.shape,y.shape,theta.shape\n",
    "mat1 = np.matrix(Normalizedfeatures.values)\n",
    "mat2 = np.matrix(y.values)\n",
    "#print(mat1)\n"
   ]
  },
  {
   "cell_type": "code",
   "execution_count": 9,
   "metadata": {
    "scrolled": true
   },
   "outputs": [
    {
     "data": {
      "text/plain": [
       "matrix([[340412.67472886, 109398.9215574 ,  -6529.4475725 ]])"
      ]
     },
     "execution_count": 9,
     "metadata": {},
     "output_type": "execute_result"
    }
   ],
   "source": [
    "iterations = 50\n",
    "alpha = 0.3\n",
    "gd, cost = gradientDescent(mat1, mat2, theta, alpha, iterations)\n",
    "gd"
   ]
  },
  {
   "cell_type": "code",
   "execution_count": 10,
   "metadata": {},
   "outputs": [
    {
     "data": {
      "image/png": "[encoded data removed]",
      "text/plain": [
       "<Figure size 432x288 with 1 Axes>"
      ]
     },
     "metadata": {
      "needs_background": "light"
     },
     "output_type": "display_data"
    }
   ],
   "source": [
    "plt.plot(cost)\n",
    "plt.xlabel('Number of Iterations')\n",
    "plt.ylabel('Cost J')\n",
    "plt.show()"
   ]
  },
  {
   "cell_type": "code",
   "execution_count": 11,
   "metadata": {},
   "outputs": [
    {
     "name": "stdout",
     "output_type": "stream",
     "text": [
      "Price for house with 1650 squarefeet and 3 bedrooms using Gradient Descent\n",
      "[[293092.22223181]]\n"
     ]
    }
   ],
   "source": [
    "NormalizedTestData=(np.array([1650,3])-Mean)/StandardDeviation # normalize Test Data\n",
    "NormalizedTestData=np.hstack((np.ones(1), NormalizedTestData)) #insert dummy X0\n",
    "Price=NormalizedTestData.dot(gd.T) #Multiply two vectors Test Data and theta\n",
    "\n",
    "print(\"Price for house with 1650 squarefeet and 3 bedrooms using Gradient Descent\")\n",
    "print(Price)"
   ]
  },
  {
   "cell_type": "markdown",
   "metadata": {},
   "source": [
    "### Normal Equation"
   ]
  },
  {
   "cell_type": "code",
   "execution_count": 12,
   "metadata": {},
   "outputs": [],
   "source": [
    "NE_x = data.iloc[:, 0:2]\n",
    "NE_y = data.iloc[:, 2:3]\n",
    "NE_x.insert(0, 'X0', 1)\n",
    "#print(NE_x)"
   ]
  },
  {
   "cell_type": "code",
   "execution_count": 13,
   "metadata": {},
   "outputs": [],
   "source": [
    "def normalEquation(X,y):\n",
    "    X_TransposeX = np.dot(X.T,X) #X transpose *X\n",
    "    inv_X = np.linalg.pinv(X_TransposeX) #X transpose *X INVERSE\n",
    "    X_y = np.dot(X.T,y) #X transpose * y\n",
    "    theta = np.dot(inv_X,X_y)\n",
    "    return theta"
   ]
  },
  {
   "cell_type": "code",
   "execution_count": 14,
   "metadata": {},
   "outputs": [],
   "source": [
    "NE_theta = normalEquation(NE_x,NE_y)"
   ]
  },
  {
   "cell_type": "code",
   "execution_count": 15,
   "metadata": {},
   "outputs": [
    {
     "name": "stdout",
     "output_type": "stream",
     "text": [
      "Price for house with 1650 squarefeet and 3 bedrooms using Normal Equation\n",
      "[293081.47383529]\n"
     ]
    }
   ],
   "source": [
    "NE_TestData=(np.array([1,1650,3]))\n",
    "#print(NE_theta)\n",
    "NE_Price=NE_TestData.dot(NE_theta)\n",
    "print(\"Price for house with 1650 squarefeet and 3 bedrooms using Normal Equation\")\n",
    "print(NE_Price)"
   ]
  },
  {
   "cell_type": "code",
   "execution_count": null,
   "metadata": {},
   "outputs": [],
   "source": []
  }
 ],
 "metadata": {
  "kernelspec": {
   "display_name": "Python 3",
   "language": "python",
   "name": "python3"
  },
  "language_info": {
   "codemirror_mode": {
    "name": "ipython",
    "version": 3
   },
   "file_extension": ".py",
   "mimetype": "text/x-python",
   "name": "python",
   "nbconvert_exporter": "python",
   "pygments_lexer": "ipython3",
   "version": "3.8.5"
  }
 },
 "nbformat": 4,
 "nbformat_minor": 4
}
